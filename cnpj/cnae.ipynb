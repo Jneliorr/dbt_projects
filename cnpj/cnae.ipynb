{
 "cells": [
  {
   "cell_type": "code",
   "execution_count": 6,
   "metadata": {},
   "outputs": [
    {
     "name": "stdout",
     "output_type": "stream",
     "text": [
      "Requirement already satisfied: google-cloud-bigquery in c:\\users\\user\\anaconda3\\lib\\site-packages (3.29.0)\n",
      "Requirement already satisfied: google-api-core<3.0.0dev,>=2.11.1 in c:\\users\\user\\anaconda3\\lib\\site-packages (from google-api-core[grpc]<3.0.0dev,>=2.11.1->google-cloud-bigquery) (2.24.1)\n",
      "Requirement already satisfied: google-auth<3.0.0dev,>=2.14.1 in c:\\users\\user\\anaconda3\\lib\\site-packages (from google-cloud-bigquery) (2.38.0)\n",
      "Requirement already satisfied: google-cloud-core<3.0.0dev,>=2.4.1 in c:\\users\\user\\anaconda3\\lib\\site-packages (from google-cloud-bigquery) (2.4.1)\n",
      "Requirement already satisfied: google-resumable-media<3.0dev,>=2.0.0 in c:\\users\\user\\anaconda3\\lib\\site-packages (from google-cloud-bigquery) (2.7.2)\n",
      "Requirement already satisfied: packaging>=20.0.0 in c:\\users\\user\\anaconda3\\lib\\site-packages (from google-cloud-bigquery) (24.2)\n",
      "Requirement already satisfied: python-dateutil<3.0dev,>=2.7.3 in c:\\users\\user\\anaconda3\\lib\\site-packages (from google-cloud-bigquery) (2.9.0.post0)\n",
      "Requirement already satisfied: requests<3.0.0dev,>=2.21.0 in c:\\users\\user\\anaconda3\\lib\\site-packages (from google-cloud-bigquery) (2.32.3)\n",
      "Requirement already satisfied: googleapis-common-protos<2.0.dev0,>=1.56.2 in c:\\users\\user\\anaconda3\\lib\\site-packages (from google-api-core<3.0.0dev,>=2.11.1->google-api-core[grpc]<3.0.0dev,>=2.11.1->google-cloud-bigquery) (1.66.0)\n",
      "Requirement already satisfied: protobuf!=3.20.0,!=3.20.1,!=4.21.0,!=4.21.1,!=4.21.2,!=4.21.3,!=4.21.4,!=4.21.5,<6.0.0.dev0,>=3.19.5 in c:\\users\\user\\anaconda3\\lib\\site-packages (from google-api-core<3.0.0dev,>=2.11.1->google-api-core[grpc]<3.0.0dev,>=2.11.1->google-cloud-bigquery) (5.29.3)\n",
      "Requirement already satisfied: proto-plus<2.0.0dev,>=1.22.3 in c:\\users\\user\\anaconda3\\lib\\site-packages (from google-api-core<3.0.0dev,>=2.11.1->google-api-core[grpc]<3.0.0dev,>=2.11.1->google-cloud-bigquery) (1.26.0)\n",
      "Requirement already satisfied: grpcio<2.0dev,>=1.33.2 in c:\\users\\user\\anaconda3\\lib\\site-packages (from google-api-core[grpc]<3.0.0dev,>=2.11.1->google-cloud-bigquery) (1.70.0)\n",
      "Requirement already satisfied: grpcio-status<2.0.dev0,>=1.33.2 in c:\\users\\user\\anaconda3\\lib\\site-packages (from google-api-core[grpc]<3.0.0dev,>=2.11.1->google-cloud-bigquery) (1.70.0)\n",
      "Requirement already satisfied: cachetools<6.0,>=2.0.0 in c:\\users\\user\\anaconda3\\lib\\site-packages (from google-auth<3.0.0dev,>=2.14.1->google-cloud-bigquery) (5.5.1)\n",
      "Requirement already satisfied: pyasn1-modules>=0.2.1 in c:\\users\\user\\anaconda3\\lib\\site-packages (from google-auth<3.0.0dev,>=2.14.1->google-cloud-bigquery) (0.2.8)\n",
      "Requirement already satisfied: rsa<5,>=3.1.4 in c:\\users\\user\\anaconda3\\lib\\site-packages (from google-auth<3.0.0dev,>=2.14.1->google-cloud-bigquery) (4.9)\n",
      "Requirement already satisfied: google-crc32c<2.0dev,>=1.0 in c:\\users\\user\\anaconda3\\lib\\site-packages (from google-resumable-media<3.0dev,>=2.0.0->google-cloud-bigquery) (1.6.0)\n",
      "Requirement already satisfied: six>=1.5 in c:\\users\\user\\anaconda3\\lib\\site-packages (from python-dateutil<3.0dev,>=2.7.3->google-cloud-bigquery) (1.16.0)\n",
      "Requirement already satisfied: charset-normalizer<4,>=2 in c:\\users\\user\\anaconda3\\lib\\site-packages (from requests<3.0.0dev,>=2.21.0->google-cloud-bigquery) (3.3.2)\n",
      "Requirement already satisfied: idna<4,>=2.5 in c:\\users\\user\\anaconda3\\lib\\site-packages (from requests<3.0.0dev,>=2.21.0->google-cloud-bigquery) (3.10)\n",
      "Requirement already satisfied: urllib3<3,>=1.21.1 in c:\\users\\user\\anaconda3\\lib\\site-packages (from requests<3.0.0dev,>=2.21.0->google-cloud-bigquery) (2.3.0)\n",
      "Requirement already satisfied: certifi>=2017.4.17 in c:\\users\\user\\anaconda3\\lib\\site-packages (from requests<3.0.0dev,>=2.21.0->google-cloud-bigquery) (2025.1.31)\n",
      "Requirement already satisfied: pyasn1<0.5.0,>=0.4.6 in c:\\users\\user\\anaconda3\\lib\\site-packages (from pyasn1-modules>=0.2.1->google-auth<3.0.0dev,>=2.14.1->google-cloud-bigquery) (0.4.8)\n"
     ]
    }
   ],
   "source": [
    "import pandas as pd\n",
    "import os\n",
    "!pip install google-cloud-bigquery\n",
    "from google.cloud import bigquery\n",
    "import numpy as np"
   ]
  },
  {
   "cell_type": "code",
   "execution_count": 10,
   "metadata": {},
   "outputs": [],
   "source": [
    "cServico = r\"C:\\Users\\User\\OneDrive\\Villam\\POWERBI\\Cnaes\\Atividades_vs_CNAE_SN.csv\"\n",
    "cServico = pd.read_csv(cServico, delimiter=';',encoding='ansi', dtype=str)\n",
    "ccnpj = r\"C:\\Users\\User\\OneDrive\\Villam\\POWERBI\\Cnaes\\F.K03200$Z.D30311.CNAECSV\"\n",
    "ccnpj = pd.read_csv(ccnpj, delimiter=';',encoding='ansi', header = None, names=['CNAE', 'Descrição'])\n",
    "dimCnae = r\"C:\\Users\\User\\OneDrive\\Villam\\POWERBI\\Cnaes\\DIM_CNAES.xlsx\"\n",
    "dimCnae = pd.read_excel(dimCnae, dtype=str)\n"
   ]
  },
  {
   "cell_type": "code",
   "execution_count": 11,
   "metadata": {},
   "outputs": [
    {
     "data": {
      "application/vnd.microsoft.datawrangler.viewer.v0+json": {
       "columns": [
        {
         "name": "index",
         "rawType": "int64",
         "type": "integer"
        },
        {
         "name": "cnae",
         "rawType": "object",
         "type": "string"
        },
        {
         "name": "descricao",
         "rawType": "object",
         "type": "string"
        },
        {
         "name": "anexo",
         "rawType": "object",
         "type": "string"
        },
        {
         "name": "tipo",
         "rawType": "object",
         "type": "string"
        }
       ],
       "conversionMethod": "pd.DataFrame",
       "ref": "5f48b4c9-b84f-4c6d-9432-ef5e33617141",
       "rows": [
        [
         "0",
         "9900800",
         "Organismos internacionais e outras instituições extraterritoriais",
         "IV",
         "Serviço"
        ],
        [
         "1",
         "9700500",
         "Serviços domésticos",
         "IV",
         "Serviço"
        ],
        [
         "2",
         "9609299",
         "Outras atividades de serviços pessoais não especificadas anteriormente",
         "III",
         "Serviço"
        ],
        [
         "3",
         "9609208",
         "Higiene e embelezamento de animais domésticos",
         "III",
         "Serviço"
        ],
        [
         "4",
         "9609207",
         "Alojamento de animais domésticos",
         "III",
         "Serviço"
        ],
        [
         "5",
         "9609206",
         "Serviços de tatuagem e colocação de piercing",
         "III",
         "Serviço"
        ],
        [
         "6",
         "9609205",
         "Atividades de sauna e banhos",
         "III",
         "Serviço"
        ],
        [
         "7",
         "9609204",
         "Exploração de máquinas de serviços pessoais acionadas por moeda",
         "III",
         "Serviço"
        ],
        [
         "8",
         "9609202",
         "Agências matrimoniais",
         "III",
         "Serviço"
        ],
        [
         "9",
         "9603399",
         "Atividades funerárias e serviços relacionados não especificados anteriormente",
         "III",
         "Serviço"
        ],
        [
         "10",
         "9603305",
         "Serviços de somatoconservação",
         "III",
         "Serviço"
        ],
        [
         "11",
         "9603304",
         "Serviços de funerárias",
         "III",
         "Serviço"
        ],
        [
         "12",
         "9603303",
         "Serviços de sepultamento",
         "III",
         "Serviço"
        ],
        [
         "13",
         "9603302",
         "Serviços de cremação",
         "III",
         "Serviço"
        ],
        [
         "14",
         "9603301",
         "Gestão e manutenção de cemitérios",
         "III",
         "Serviço"
        ],
        [
         "15",
         "9602502",
         "Atividades de estética e outros serviços de cuidados com a beleza",
         "III",
         "Serviço"
        ],
        [
         "16",
         "9602501",
         "Cabeleireiros, manicure e pedicure",
         "III",
         "Serviço"
        ],
        [
         "17",
         "9601703",
         "Toalheiros",
         "III",
         "Serviço"
        ],
        [
         "18",
         "9601702",
         "Tinturarias",
         "III",
         "Serviço"
        ],
        [
         "19",
         "9601701",
         "Lavanderias",
         "III",
         "Serviço"
        ],
        [
         "20",
         "9529199",
         "Reparação e manutenção de outros objetos e equipamentos pessoais e domésticos não especificados anteriormente",
         "III",
         "Serviço"
        ],
        [
         "21",
         "9529106",
         "Reparação de jóias",
         "III",
         "Serviço"
        ],
        [
         "22",
         "9529105",
         "Reparação de artigos do mobiliário",
         "III",
         "Serviço"
        ],
        [
         "23",
         "9529104",
         "Reparação de bicicletas, triciclos e outros veículos não-motorizados",
         "III",
         "Serviço"
        ],
        [
         "24",
         "9529103",
         "Reparação de relógios",
         "III",
         "Serviço"
        ],
        [
         "25",
         "9529102",
         "Chaveiros",
         "III",
         "Serviço"
        ],
        [
         "26",
         "9529101",
         "Reparação de calçados, bolsas e artigos de viagem",
         "III",
         "Serviço"
        ],
        [
         "27",
         "9521500",
         "Reparação e manutenção de equipamentos eletroeletrônicos de uso pessoal e doméstico",
         "III",
         "Serviço"
        ],
        [
         "28",
         "9512600",
         "Reparação e manutenção de equipamentos de comunicação",
         "III",
         "Serviço"
        ],
        [
         "29",
         "9511800",
         "Reparação e manutenção de computadores e de equipamentos periféricos",
         "III",
         "Serviço"
        ],
        [
         "30",
         "9329899",
         "Outras atividades de recreação e lazer não especificadas anteriormente",
         "III",
         "Serviço"
        ],
        [
         "31",
         "9329804",
         "Exploração de jogos eletrônicos recreativos",
         "III",
         "Serviço"
        ],
        [
         "32",
         "9329803",
         "Exploração de jogos de sinuca, bilhar e similares",
         "III",
         "Serviço"
        ],
        [
         "33",
         "9329802",
         "Exploração de boliches",
         "III",
         "Serviço"
        ],
        [
         "34",
         "9329801",
         "Discotecas, danceterias, salões de dança e similares",
         "III",
         "Serviço"
        ],
        [
         "35",
         "9321200",
         "Parques de diversão e parques temáticos",
         "III",
         "Serviço"
        ],
        [
         "36",
         "9319199",
         "Outras atividades esportivas não especificadas anteriormente",
         "III",
         "Serviço"
        ],
        [
         "37",
         "9319101",
         "Produção e promoção de eventos esportivos",
         "III",
         "Serviço"
        ],
        [
         "38",
         "9313100",
         "Atividades de condicionamento físico",
         "V",
         "Serviço"
        ],
        [
         "40",
         "9312300",
         "Clubes sociais, esportivos e similares",
         "III",
         "Serviço"
        ],
        [
         "41",
         "9311500",
         "Gestão de instalações de esportes",
         "III",
         "Serviço"
        ],
        [
         "42",
         "9200399",
         "Exploração de jogos de azar e apostas não especificados anteriormente",
         "III",
         "Serviço"
        ],
        [
         "43",
         "9200302",
         "Exploração de apostas em corridas de cavalos",
         "III",
         "Serviço"
        ],
        [
         "44",
         "9200301",
         "Casas de bingo",
         "III",
         "Serviço"
        ],
        [
         "45",
         "9103100",
         "Atividades de jardins botânicos, zoológicos, parques nacionais, reservas ecológicas e áreas de proteção ambiental",
         "III",
         "Serviço"
        ],
        [
         "46",
         "9102302",
         "Restauração e conservação de lugares e prédios históricos",
         "III",
         "Serviço"
        ],
        [
         "47",
         "9102301",
         "Atividades de museus e de exploração de lugares e prédios históricos e atrações similares",
         "III",
         "Serviço"
        ],
        [
         "48",
         "9101500",
         "Atividades de bibliotecas e arquivos",
         "III",
         "Serviço"
        ],
        [
         "49",
         "9003500",
         "Gestão de espaços para artes cênicas, espetáculos e outras atividades artísticas",
         "III",
         "Serviço"
        ],
        [
         "50",
         "9002702",
         "Restauração de obras de arte",
         "III",
         "Serviço"
        ]
       ],
       "shape": {
        "columns": 4,
        "rows": 1230
       }
      },
      "text/html": [
       "<div>\n",
       "<style scoped>\n",
       "    .dataframe tbody tr th:only-of-type {\n",
       "        vertical-align: middle;\n",
       "    }\n",
       "\n",
       "    .dataframe tbody tr th {\n",
       "        vertical-align: top;\n",
       "    }\n",
       "\n",
       "    .dataframe thead th {\n",
       "        text-align: right;\n",
       "    }\n",
       "</style>\n",
       "<table border=\"1\" class=\"dataframe\">\n",
       "  <thead>\n",
       "    <tr style=\"text-align: right;\">\n",
       "      <th></th>\n",
       "      <th>cnae</th>\n",
       "      <th>descricao</th>\n",
       "      <th>anexo</th>\n",
       "      <th>tipo</th>\n",
       "    </tr>\n",
       "  </thead>\n",
       "  <tbody>\n",
       "    <tr>\n",
       "      <th>0</th>\n",
       "      <td>9900800</td>\n",
       "      <td>Organismos internacionais e outras instituiçõe...</td>\n",
       "      <td>IV</td>\n",
       "      <td>Serviço</td>\n",
       "    </tr>\n",
       "    <tr>\n",
       "      <th>1</th>\n",
       "      <td>9700500</td>\n",
       "      <td>Serviços domésticos</td>\n",
       "      <td>IV</td>\n",
       "      <td>Serviço</td>\n",
       "    </tr>\n",
       "    <tr>\n",
       "      <th>2</th>\n",
       "      <td>9609299</td>\n",
       "      <td>Outras atividades de serviços pessoais não esp...</td>\n",
       "      <td>III</td>\n",
       "      <td>Serviço</td>\n",
       "    </tr>\n",
       "    <tr>\n",
       "      <th>3</th>\n",
       "      <td>9609208</td>\n",
       "      <td>Higiene e embelezamento de animais domésticos</td>\n",
       "      <td>III</td>\n",
       "      <td>Serviço</td>\n",
       "    </tr>\n",
       "    <tr>\n",
       "      <th>4</th>\n",
       "      <td>9609207</td>\n",
       "      <td>Alojamento de animais domésticos</td>\n",
       "      <td>III</td>\n",
       "      <td>Serviço</td>\n",
       "    </tr>\n",
       "    <tr>\n",
       "      <th>...</th>\n",
       "      <td>...</td>\n",
       "      <td>...</td>\n",
       "      <td>...</td>\n",
       "      <td>...</td>\n",
       "    </tr>\n",
       "    <tr>\n",
       "      <th>1249</th>\n",
       "      <td>112101</td>\n",
       "      <td>Cultivo de algodão herbáceo</td>\n",
       "      <td>I</td>\n",
       "      <td>Comercio</td>\n",
       "    </tr>\n",
       "    <tr>\n",
       "      <th>1250</th>\n",
       "      <td>111399</td>\n",
       "      <td>Cultivo de outros cereais não especificados an...</td>\n",
       "      <td>I</td>\n",
       "      <td>Comercio</td>\n",
       "    </tr>\n",
       "    <tr>\n",
       "      <th>1251</th>\n",
       "      <td>111303</td>\n",
       "      <td>Cultivo de trigo</td>\n",
       "      <td>I</td>\n",
       "      <td>Comercio</td>\n",
       "    </tr>\n",
       "    <tr>\n",
       "      <th>1252</th>\n",
       "      <td>111302</td>\n",
       "      <td>Cultivo de milho</td>\n",
       "      <td>I</td>\n",
       "      <td>Comercio</td>\n",
       "    </tr>\n",
       "    <tr>\n",
       "      <th>1253</th>\n",
       "      <td>111301</td>\n",
       "      <td>Cultivo de arroz</td>\n",
       "      <td>I</td>\n",
       "      <td>Comercio</td>\n",
       "    </tr>\n",
       "  </tbody>\n",
       "</table>\n",
       "<p>1230 rows × 4 columns</p>\n",
       "</div>"
      ],
      "text/plain": [
       "         cnae                                          descricao anexo  \\\n",
       "0     9900800  Organismos internacionais e outras instituiçõe...    IV   \n",
       "1     9700500                                Serviços domésticos    IV   \n",
       "2     9609299  Outras atividades de serviços pessoais não esp...   III   \n",
       "3     9609208      Higiene e embelezamento de animais domésticos   III   \n",
       "4     9609207                   Alojamento de animais domésticos   III   \n",
       "...       ...                                                ...   ...   \n",
       "1249   112101                        Cultivo de algodão herbáceo     I   \n",
       "1250   111399  Cultivo de outros cereais não especificados an...     I   \n",
       "1251   111303                                   Cultivo de trigo     I   \n",
       "1252   111302                                   Cultivo de milho     I   \n",
       "1253   111301                                   Cultivo de arroz     I   \n",
       "\n",
       "          tipo  \n",
       "0      Serviço  \n",
       "1      Serviço  \n",
       "2      Serviço  \n",
       "3      Serviço  \n",
       "4      Serviço  \n",
       "...        ...  \n",
       "1249  Comercio  \n",
       "1250  Comercio  \n",
       "1251  Comercio  \n",
       "1252  Comercio  \n",
       "1253  Comercio  \n",
       "\n",
       "[1230 rows x 4 columns]"
      ]
     },
     "execution_count": 11,
     "metadata": {},
     "output_type": "execute_result"
    }
   ],
   "source": [
    "condicoes = [\n",
    "    cServico['Anexo'] == \"I\",\n",
    "    cServico['Anexo'] == \"II\"\n",
    "]\n",
    "\n",
    "valores = ['Comercio', 'Industria']\n",
    "\n",
    "# Adiciona a nova coluna 'tipo'\n",
    "cServico['tipo'] = np.select(condicoes, valores, default='Serviço')\n",
    "\n",
    "cServico = cServico.rename(columns={\n",
    "    'CNAE': 'cnae',\n",
    "    'Descrição': 'descricao',\n",
    "    'Anexo': 'anexo',\n",
    "    'tipo': 'tipo'  # Se quiser mudar para outro nome, altere aqui\n",
    "})\n",
    "\n",
    "cServico = cServico.drop_duplicates(subset='cnae')\n",
    "\n",
    "cServico"
   ]
  },
  {
   "cell_type": "code",
   "execution_count": 12,
   "metadata": {},
   "outputs": [
    {
     "data": {
      "text/plain": [
       "LoadJob<project=infra-itaborai, location=us-central1, id=4adbc708-84b5-4741-bce5-e537ba7c972d>"
      ]
     },
     "execution_count": 12,
     "metadata": {},
     "output_type": "execute_result"
    }
   ],
   "source": [
    "# 1 = comercio\n",
    "# 2 = industria\n",
    "# 3 e 4 = serviço\n",
    "\n",
    "client = bigquery.Client.from_service_account_json(r\"C:\\Users\\User\\Documents\\GitHub\\infra-itaborai-ce9c0b4d25c8.json\")\n",
    "# Definindo o projeto e o dataset\n",
    "project = 'infra-itaborai'\n",
    "dataset_id = 'mds_cnpj'\n",
    "dataset_ref = client.dataset(dataset_id)\n",
    "\n",
    "# subindo \n",
    "cServico = cServico\n",
    "table_ref = dataset_ref.table('cnae_servico')\n",
    "\n",
    "\n",
    "# Carregando \n",
    "job_config = bigquery.LoadJobConfig(\n",
    "    write_disposition=bigquery.WriteDisposition.WRITE_TRUNCATE,\n",
    ")\n",
    "\n",
    "job = client.load_table_from_dataframe(cServico, table_ref, job_config=job_config)\n",
    "\n",
    "job.result()  # Esperando\n",
    "\n",
    "\n",
    "\n"
   ]
  },
  {
   "cell_type": "code",
   "execution_count": null,
   "metadata": {},
   "outputs": [],
   "source": [
    "cGeralDim = pd.merge(cServico,dimCnae, left_on='CNAE',right_on='Subclasse', how = 'outer')\n",
    "cGeralDim"
   ]
  },
  {
   "cell_type": "code",
   "execution_count": null,
   "metadata": {},
   "outputs": [],
   "source": [
    "# cGeral = pd.merge(ccnpj,cServico, on = 'CNAE', how = 'outer', suffixes=('_CNPJ', '_SERVICO'))\n",
    "# cGeral"
   ]
  },
  {
   "cell_type": "code",
   "execution_count": null,
   "metadata": {},
   "outputs": [],
   "source": [
    "cServico"
   ]
  },
  {
   "cell_type": "code",
   "execution_count": null,
   "metadata": {},
   "outputs": [],
   "source": []
  },
  {
   "cell_type": "code",
   "execution_count": null,
   "metadata": {},
   "outputs": [],
   "source": []
  },
  {
   "cell_type": "code",
   "execution_count": null,
   "metadata": {},
   "outputs": [],
   "source": []
  },
  {
   "cell_type": "code",
   "execution_count": null,
   "metadata": {},
   "outputs": [],
   "source": [
    "from google.cloud import bigquery\n",
    "import pandas as pd\n",
    "\n"
   ]
  },
  {
   "cell_type": "code",
   "execution_count": null,
   "metadata": {},
   "outputs": [],
   "source": [
    "\n",
    "\n",
    "# Consulta SQL para carregar dados de outra conta\n",
    "query = \"\"\"\n",
    "    SELECT * FROM `villam-data-science.dm_itaborai.nfse_concat` \n",
    "    WHERE SISTEMA = 'giss'\n",
    "\"\"\"\n",
    "\n",
    "# Executa a consulta e carrega os dados em um DataFrame\n",
    "cServico = client.query(query).to_dataframe()\n",
    "\n",
    "\n",
    "# Define o projeto e o dataset de destino\n",
    "project = 'infra-itaborai'\n",
    "dataset_id = 'teste2'\n",
    "table_id = 'notastestes'  # Nome da tabela de destino\n",
    "\n",
    "# Referência completa para a tabela de destino\n",
    "table_ref = f\"{project}.{dataset_id}.{table_id}\"\n",
    "\n",
    "# Configuração do job de carga para sobrescrever a tabela de destino\n",
    "job_config = bigquery.LoadJobConfig(\n",
    "    write_disposition=bigquery.WriteDisposition.WRITE_TRUNCATE,\n",
    ")\n",
    "\n",
    "# Carrega o DataFrame para a tabela de destino\n",
    "job = client.load_table_from_dataframe(cServico, table_ref, job_config=job_config)\n",
    "job.result()  # Aguarda a conclusão do job\n",
    "\n",
    "print(\"Dados carregados com sucesso para a tabela de destino.\")"
   ]
  },
  {
   "cell_type": "code",
   "execution_count": null,
   "metadata": {},
   "outputs": [],
   "source": [
    "# Autenticação\n",
    "client = bigquery.Client.from_service_account_json(r\"C:\\Users\\nelio\\Downloads\\infra-itaborai-8632346554bf.json\")"
   ]
  },
  {
   "cell_type": "code",
   "execution_count": null,
   "metadata": {},
   "outputs": [],
   "source": [
    "client"
   ]
  }
 ],
 "metadata": {
  "kernelspec": {
   "display_name": "base",
   "language": "python",
   "name": "python3"
  },
  "language_info": {
   "codemirror_mode": {
    "name": "ipython",
    "version": 3
   },
   "file_extension": ".py",
   "mimetype": "text/x-python",
   "name": "python",
   "nbconvert_exporter": "python",
   "pygments_lexer": "ipython3",
   "version": "3.12.7"
  }
 },
 "nbformat": 4,
 "nbformat_minor": 2
}
